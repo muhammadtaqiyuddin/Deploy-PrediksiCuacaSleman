{
  "nbformat": 4,
  "nbformat_minor": 0,
  "metadata": {
    "colab": {
      "provenance": [],
      "mount_file_id": "16WaNcmGCfaPETXBjbn6p8xR6ukP7be0b",
      "authorship_tag": "ABX9TyNpb2dYz9avArlZ9xFFplz4",
      "include_colab_link": true
    },
    "kernelspec": {
      "name": "python3",
      "display_name": "Python 3"
    },
    "language_info": {
      "name": "python"
    }
  },
  "cells": [
    {
      "cell_type": "markdown",
      "metadata": {
        "id": "view-in-github",
        "colab_type": "text"
      },
      "source": [
        "<a href=\"https://colab.research.google.com/github/muhammadtaqiyuddin/PrediksiCuacaKabupatenSleman/blob/master/Prediksi_cuaca_kabupaten_sleman_dengan_algoritma_Random_Forest.ipynb\" target=\"_parent\"><img src=\"https://colab.research.google.com/assets/colab-badge.svg\" alt=\"Open In Colab\"/></a>"
      ]
    },
    {
      "cell_type": "markdown",
      "source": [
        "# Import Library"
      ],
      "metadata": {
        "id": "r-gbDLDequew"
      }
    },
    {
      "cell_type": "code",
      "source": [
        "import pandas as pd\n",
        "import numpy as np\n",
        "import matplotlib.pyplot as plt\n",
        "import seaborn as sns\n",
        "from sklearn.model_selection import train_test_split\n",
        "from sklearn.ensemble import RandomForestRegressor\n",
        "from sklearn.metrics import mean_absolute_error, mean_squared_error, r2_score"
      ],
      "metadata": {
        "id": "b3Uhx3vEptQ-"
      },
      "execution_count": null,
      "outputs": []
    },
    {
      "cell_type": "markdown",
      "source": [
        "# Load Dataset"
      ],
      "metadata": {
        "id": "EemuOT0fqxcn"
      }
    },
    {
      "cell_type": "code",
      "execution_count": null,
      "metadata": {
        "id": "1MuAgmKho3SK"
      },
      "outputs": [],
      "source": [
        "data = pd.read_csv('/content/drive/MyDrive/Semester 6/Proyek Data Mining/Dataset/laporan_iklim_harian_1Tahun_Sleman.csv')"
      ]
    },
    {
      "cell_type": "markdown",
      "source": [
        "# EDA"
      ],
      "metadata": {
        "id": "ciXviOKKqywP"
      }
    },
    {
      "cell_type": "markdown",
      "source": [
        "\n",
        "\n",
        "*   Visualisasi Data\n",
        "*   Analisis hubungan Antar Fitur\n",
        "\n"
      ],
      "metadata": {
        "id": "1XDyi9uvcRHQ"
      }
    },
    {
      "cell_type": "code",
      "source": [
        "print(\"Jumlah baris, kolom:\", data.shape)"
      ],
      "metadata": {
        "colab": {
          "base_uri": "https://localhost:8080/"
        },
        "id": "eppKCP8NrF0f",
        "outputId": "0976115f-7acc-4c3f-8cb3-6f466a21f6a9"
      },
      "execution_count": null,
      "outputs": [
        {
          "output_type": "stream",
          "name": "stdout",
          "text": [
            "Jumlah baris, kolom: (366, 11)\n"
          ]
        }
      ]
    },
    {
      "cell_type": "code",
      "source": [
        "print(data.head())"
      ],
      "metadata": {
        "colab": {
          "base_uri": "https://localhost:8080/"
        },
        "id": "IvkmSbllq22f",
        "outputId": "45fbfe24-c3cc-41ea-ca89-07ae9d21aa18"
      },
      "execution_count": null,
      "outputs": [
        {
          "output_type": "stream",
          "name": "stdout",
          "text": [
            "      Tanggal    Tn    Tx  Tavg  RH_avg      RR   ss  ff_x  ddd_x  ff_avg  \\\n",
            "0  01-01-2023  22.6  31.3  26.1    82.0     0.8  0.2   6.0  280.0     3.0   \n",
            "1  02-01-2023  23.6  30.4  26.9    78.0     0.0  2.3   8.0  300.0     3.0   \n",
            "2  03-01-2023  24.2  29.0  26.5    80.0     2.0  3.6   4.0  310.0     2.0   \n",
            "3  04-01-2023  23.1  30.8  26.3    84.0  8888.0  2.7   6.0  280.0     3.0   \n",
            "4  05-01-2023  22.8  29.6  25.8    88.0    20.6  5.2   6.0  250.0     3.0   \n",
            "\n",
            "  ddd_car  \n",
            "0      W   \n",
            "1      W   \n",
            "2      W   \n",
            "3      W   \n",
            "4      W   \n"
          ]
        }
      ]
    },
    {
      "cell_type": "markdown",
      "source": [
        "Analisis Statistik\n"
      ],
      "metadata": {
        "id": "-GfikDE1kliy"
      }
    },
    {
      "cell_type": "code",
      "source": [
        "print(data.describe())"
      ],
      "metadata": {
        "colab": {
          "base_uri": "https://localhost:8080/"
        },
        "id": "o6Ou5zb6rRlZ",
        "outputId": "ad4c54fb-efe5-49b0-e163-f6f3486a29d6"
      },
      "execution_count": null,
      "outputs": [
        {
          "output_type": "stream",
          "name": "stdout",
          "text": [
            "               Tn          Tx        Tavg      RH_avg           RR  \\\n",
            "count  363.000000  364.000000  364.000000  364.000000   326.000000   \n",
            "mean    22.849311   31.172527   26.598626   79.197802   359.753374   \n",
            "std      1.481886    1.409555    1.526632    6.433760  1740.765767   \n",
            "min     18.200000   24.900000   22.500000   58.000000     0.000000   \n",
            "25%     22.200000   30.400000   25.600000   76.000000     0.000000   \n",
            "50%     23.200000   31.200000   26.400000   79.500000     0.000000   \n",
            "75%     23.800000   32.025000   27.400000   84.000000     3.775000   \n",
            "max     25.600000   35.600000   31.400000   93.000000  8888.000000   \n",
            "\n",
            "               ss        ff_x       ddd_x      ff_avg  \n",
            "count  356.000000  365.000000  365.000000  365.000000  \n",
            "mean     6.062640    4.890411  241.641096    2.112329  \n",
            "std      2.926909    1.598090   52.110354    0.676112  \n",
            "min      0.000000    2.000000    4.000000    1.000000  \n",
            "25%      3.800000    4.000000  230.000000    2.000000  \n",
            "50%      6.400000    5.000000  250.000000    2.000000  \n",
            "75%      8.500000    5.000000  270.000000    3.000000  \n",
            "max     11.400000   15.000000  360.000000    4.000000  \n"
          ]
        }
      ]
    },
    {
      "cell_type": "markdown",
      "source": [
        "Keterangan :\n",
        "* 8888: data tidak terukur\n",
        "* 9999: Tidak Ada Data (tidak dilakukan pengukuran)\n",
        "* \"Tn: Temperatur minimum\t (°C)\"\n",
        "* Tx: Temperatur maksimum (°C)\n",
        "* Tavg: Temperatur rata-rata (°C)\n",
        "* RH_avg: Kelembapan rata-rata (%)\n",
        "* RR: Curah hujan (mm)\n",
        "* ss: Lamanya penyinaran matahari (jam)\n",
        "* ff_x: Kecepatan angin maksimum (m/s)\n",
        "* ddd_x: Arah angin saat kecepatan maksimum (°)\n",
        "* ff_avg: Kecepatan angin rata-rata (m/s)\n",
        "* ddd_car: Arah angin terbanyak (°)"
      ],
      "metadata": {
        "id": "Q_dBQ2YTFNUH"
      }
    },
    {
      "cell_type": "markdown",
      "source": [
        "Identifikasi Nilai Hilang"
      ],
      "metadata": {
        "id": "d9kXmf8fkjbB"
      }
    },
    {
      "cell_type": "code",
      "source": [
        "data.isnull().sum()"
      ],
      "metadata": {
        "colab": {
          "base_uri": "https://localhost:8080/"
        },
        "id": "c10YhZiIkgAo",
        "outputId": "6d92bda8-707b-4102-abf5-b51337edd5fc"
      },
      "execution_count": null,
      "outputs": [
        {
          "output_type": "execute_result",
          "data": {
            "text/plain": [
              "Tanggal     0\n",
              "Tn          3\n",
              "Tx          2\n",
              "Tavg        2\n",
              "RH_avg      2\n",
              "RR         40\n",
              "ss         10\n",
              "ff_x        1\n",
              "ddd_x       1\n",
              "ff_avg      1\n",
              "ddd_car     1\n",
              "dtype: int64"
            ]
          },
          "metadata": {},
          "execution_count": 21
        }
      ]
    },
    {
      "cell_type": "markdown",
      "source": [
        "Visualisasi"
      ],
      "metadata": {
        "id": "VOrP4G9otffx"
      }
    },
    {
      "cell_type": "code",
      "source": [
        "plt.hist(data['Tn'])\n",
        "plt.xlabel('Temperatur Minimum (°C)')\n",
        "plt.ylabel('Frekuensi')\n",
        "plt.title('Distribusi Temperatur Minimum')\n",
        "plt.show()\n",
        "\n",
        "data.plot(x='Tn', y='Tx', kind='scatter')\n",
        "plt.xlabel('Temperatur Minimum (°C)')\n",
        "plt.ylabel('Temperatur Maksimum (°C)')\n",
        "plt.title('Hubungan Temperatur Minimum dan Maksimum')\n",
        "plt.show()"
      ],
      "metadata": {
        "colab": {
          "base_uri": "https://localhost:8080/",
          "height": 927
        },
        "id": "PwEWLLnqeciQ",
        "outputId": "7e78c957-96fc-4cae-bb18-8756977ceb78"
      },
      "execution_count": null,
      "outputs": [
        {
          "output_type": "display_data",
          "data": {
            "text/plain": [
              "<Figure size 640x480 with 1 Axes>"
            ],
            "image/png": "[encoded data removed]"
          },
          "metadata": {}
        },
        {
          "output_type": "display_data",
          "data": {
            "text/plain": [
              "<Figure size 640x480 with 1 Axes>"
            ],
            "image/png": "[encoded data removed]"
          },
          "metadata": {}
        }
      ]
    },
    {
      "cell_type": "markdown",
      "source": [
        "# Pre Processing Data"
      ],
      "metadata": {
        "id": "KCzG03CYcZAZ"
      }
    },
    {
      "cell_type": "markdown",
      "source": [
        "* Membersihkan Data dari nilai yang hilang / tidak akurat\n",
        "* Normalisasi Data Numerik"
      ],
      "metadata": {
        "id": "vIeDR8SFcbvJ"
      }
    },
    {
      "cell_type": "markdown",
      "source": [
        "Mengatasi Nilai Hilang"
      ],
      "metadata": {
        "id": "hdz6cc_xktI7"
      }
    },
    {
      "cell_type": "code",
      "source": [
        "data.dropna(inplace=True)"
      ],
      "metadata": {
        "id": "ObcReSPvksn4"
      },
      "execution_count": null,
      "outputs": []
    },
    {
      "cell_type": "code",
      "source": [
        "data.isnull().sum()"
      ],
      "metadata": {
        "colab": {
          "base_uri": "https://localhost:8080/"
        },
        "id": "35qjRLlSv-gQ",
        "outputId": "da767561-f485-4693-b8e6-651b92b522a2"
      },
      "execution_count": null,
      "outputs": [
        {
          "output_type": "execute_result",
          "data": {
            "text/plain": [
              "Tanggal    0\n",
              "Tn         0\n",
              "Tx         0\n",
              "Tavg       0\n",
              "RH_avg     0\n",
              "RR         0\n",
              "ss         0\n",
              "ff_x       0\n",
              "ddd_x      0\n",
              "ff_avg     0\n",
              "ddd_car    0\n",
              "dtype: int64"
            ]
          },
          "metadata": {},
          "execution_count": 24
        }
      ]
    },
    {
      "cell_type": "markdown",
      "source": [
        "Normalisasi Data Numerik"
      ],
      "metadata": {
        "id": "_ZgwhweOkwMR"
      }
    },
    {
      "cell_type": "code",
      "source": [
        "from sklearn.preprocessing import MinMaxScaler\n",
        "\n",
        "scaler = MinMaxScaler()\n",
        "\n",
        "data_numerik = ['Tn', 'Tx', 'Tavg', 'RH_avg', 'RR', 'ss', 'ff_x', 'ff_avg']\n",
        "data[data_numerik] = scaler.fit_transform(data[data_numerik])"
      ],
      "metadata": {
        "id": "H_BpRS58kzyQ"
      },
      "execution_count": null,
      "outputs": []
    },
    {
      "cell_type": "code",
      "source": [
        "data = pd.get_dummies(data, columns=['ddd_car'], drop_first=True)\n",
        "\n",
        "X = data.drop(columns=['Tanggal', 'Tavg'])\n",
        "y = data['Tavg']"
      ],
      "metadata": {
        "id": "vrGFBrgEwtKR"
      },
      "execution_count": null,
      "outputs": []
    },
    {
      "cell_type": "markdown",
      "source": [
        "# Spliting Data"
      ],
      "metadata": {
        "id": "sC2KC167cjQg"
      }
    },
    {
      "cell_type": "markdown",
      "source": [
        "* Training Set\n",
        "* Testing Set"
      ],
      "metadata": {
        "id": "1SVFEGLWclGR"
      }
    },
    {
      "cell_type": "code",
      "source": [
        "X_train, X_test, y_train, y_test = train_test_split(X, y, test_size=0.2, random_state=42)"
      ],
      "metadata": {
        "id": "BNdgPBV5eg94"
      },
      "execution_count": null,
      "outputs": []
    },
    {
      "cell_type": "markdown",
      "source": [
        " 80% data digunakan untuk melatih model dan 20% data digunakan untuk menguji model."
      ],
      "metadata": {
        "id": "VibEX-zvC-TA"
      }
    },
    {
      "cell_type": "markdown",
      "source": [
        "# Pelatihan Model Random Forest"
      ],
      "metadata": {
        "id": "NexO40WFcnwx"
      }
    },
    {
      "cell_type": "markdown",
      "source": [
        "* Pemilihan nilai hyperparameter\n",
        "* Latih Model"
      ],
      "metadata": {
        "id": "USUFZ-3lctYI"
      }
    },
    {
      "cell_type": "code",
      "source": [
        "model = RandomForestRegressor(n_estimators=100, random_state=42)\n",
        "model.fit(X_train, y_train)"
      ],
      "metadata": {
        "colab": {
          "base_uri": "https://localhost:8080/",
          "height": 74
        },
        "id": "Osry_jGheiFh",
        "outputId": "e75bcbff-39ba-410e-df26-08f435634e17"
      },
      "execution_count": null,
      "outputs": [
        {
          "output_type": "execute_result",
          "data": {
            "text/plain": [
              "RandomForestRegressor(random_state=42)"
            ],
            "text/html": [
              "<style>#sk-container-id-2 {color: black;background-color: white;}#sk-container-id-2 pre{padding: 0;}#sk-container-id-2 div.sk-toggleable {background-color: white;}#sk-container-id-2 label.sk-toggleable__label {cursor: pointer;display: block;width: 100%;margin-bottom: 0;padding: 0.3em;box-sizing: border-box;text-align: center;}#sk-container-id-2 label.sk-toggleable__label-arrow:before {content: \"▸\";float: left;margin-right: 0.25em;color: #696969;}#sk-container-id-2 label.sk-toggleable__label-arrow:hover:before {color: black;}#sk-container-id-2 div.sk-estimator:hover label.sk-toggleable__label-arrow:before {color: black;}#sk-container-id-2 div.sk-toggleable__content {max-height: 0;max-width: 0;overflow: hidden;text-align: left;background-color: #f0f8ff;}#sk-container-id-2 div.sk-toggleable__content pre {margin: 0.2em;color: black;border-radius: 0.25em;background-color: #f0f8ff;}#sk-container-id-2 input.sk-toggleable__control:checked~div.sk-toggleable__content {max-height: 200px;max-width: 100%;overflow: auto;}#sk-container-id-2 input.sk-toggleable__control:checked~label.sk-toggleable__label-arrow:before {content: \"▾\";}#sk-container-id-2 div.sk-estimator input.sk-toggleable__control:checked~label.sk-toggleable__label {background-color: #d4ebff;}#sk-container-id-2 div.sk-label input.sk-toggleable__control:checked~label.sk-toggleable__label {background-color: #d4ebff;}#sk-container-id-2 input.sk-hidden--visually {border: 0;clip: rect(1px 1px 1px 1px);clip: rect(1px, 1px, 1px, 1px);height: 1px;margin: -1px;overflow: hidden;padding: 0;position: absolute;width: 1px;}#sk-container-id-2 div.sk-estimator {font-family: monospace;background-color: #f0f8ff;border: 1px dotted black;border-radius: 0.25em;box-sizing: border-box;margin-bottom: 0.5em;}#sk-container-id-2 div.sk-estimator:hover {background-color: #d4ebff;}#sk-container-id-2 div.sk-parallel-item::after {content: \"\";width: 100%;border-bottom: 1px solid gray;flex-grow: 1;}#sk-container-id-2 div.sk-label:hover label.sk-toggleable__label {background-color: #d4ebff;}#sk-container-id-2 div.sk-serial::before {content: \"\";position: absolute;border-left: 1px solid gray;box-sizing: border-box;top: 0;bottom: 0;left: 50%;z-index: 0;}#sk-container-id-2 div.sk-serial {display: flex;flex-direction: column;align-items: center;background-color: white;padding-right: 0.2em;padding-left: 0.2em;position: relative;}#sk-container-id-2 div.sk-item {position: relative;z-index: 1;}#sk-container-id-2 div.sk-parallel {display: flex;align-items: stretch;justify-content: center;background-color: white;position: relative;}#sk-container-id-2 div.sk-item::before, #sk-container-id-2 div.sk-parallel-item::before {content: \"\";position: absolute;border-left: 1px solid gray;box-sizing: border-box;top: 0;bottom: 0;left: 50%;z-index: -1;}#sk-container-id-2 div.sk-parallel-item {display: flex;flex-direction: column;z-index: 1;position: relative;background-color: white;}#sk-container-id-2 div.sk-parallel-item:first-child::after {align-self: flex-end;width: 50%;}#sk-container-id-2 div.sk-parallel-item:last-child::after {align-self: flex-start;width: 50%;}#sk-container-id-2 div.sk-parallel-item:only-child::after {width: 0;}#sk-container-id-2 div.sk-dashed-wrapped {border: 1px dashed gray;margin: 0 0.4em 0.5em 0.4em;box-sizing: border-box;padding-bottom: 0.4em;background-color: white;}#sk-container-id-2 div.sk-label label {font-family: monospace;font-weight: bold;display: inline-block;line-height: 1.2em;}#sk-container-id-2 div.sk-label-container {text-align: center;}#sk-container-id-2 div.sk-container {/* jupyter's `normalize.less` sets `[hidden] { display: none; }` but bootstrap.min.css set `[hidden] { display: none !important; }` so we also need the `!important` here to be able to override the default hidden behavior on the sphinx rendered scikit-learn.org. See: https://github.com/scikit-learn/scikit-learn/issues/21755 */display: inline-block !important;position: relative;}#sk-container-id-2 div.sk-text-repr-fallback {display: none;}</style><div id=\"sk-container-id-2\" class=\"sk-top-container\"><div class=\"sk-text-repr-fallback\"><pre>RandomForestRegressor(random_state=42)</pre><b>In a Jupyter environment, please rerun this cell to show the HTML representation or trust the notebook. <br />On GitHub, the HTML representation is unable to render, please try loading this page with nbviewer.org.</b></div><div class=\"sk-container\" hidden><div class=\"sk-item\"><div class=\"sk-estimator sk-toggleable\"><input class=\"sk-toggleable__control sk-hidden--visually\" id=\"sk-estimator-id-2\" type=\"checkbox\" checked><label for=\"sk-estimator-id-2\" class=\"sk-toggleable__label sk-toggleable__label-arrow\">RandomForestRegressor</label><div class=\"sk-toggleable__content\"><pre>RandomForestRegressor(random_state=42)</pre></div></div></div></div></div>"
            ]
          },
          "metadata": {},
          "execution_count": 28
        }
      ]
    },
    {
      "cell_type": "markdown",
      "source": [
        "# Evaluasi Model"
      ],
      "metadata": {
        "id": "HKKuJp17cySo"
      }
    },
    {
      "cell_type": "markdown",
      "source": [
        "* Menghitung MAE\n",
        "* Menghitung MSE\n",
        "* Menghitung RMSE\n",
        "* Menghitung R2"
      ],
      "metadata": {
        "id": "nk3teCBic0f4"
      }
    },
    {
      "cell_type": "code",
      "source": [
        "y_pred = model.predict(X_test)\n",
        "\n",
        "mae = mean_absolute_error(y_test, y_pred)\n",
        "mse = mean_squared_error(y_test, y_pred)\n",
        "rmse = np.sqrt(mse)\n",
        "r2 = r2_score(y_test, y_pred)\n",
        "\n",
        "print(\"Mean Absolute Error:\", mae)\n",
        "print(\"Mean Squared Error:\", mse)\n",
        "print(\"Root Mean Squared Error:\", rmse)\n",
        "print(\"R-squared:\", r2)\n"
      ],
      "metadata": {
        "colab": {
          "base_uri": "https://localhost:8080/"
        },
        "id": "7uidQNGz1thR",
        "outputId": "433c9bfa-0fe6-47d7-fb6e-2e7c988bfdb0"
      },
      "execution_count": null,
      "outputs": [
        {
          "output_type": "stream",
          "name": "stdout",
          "text": [
            "Mean Absolute Error: 0.06025510204081633\n",
            "Mean Squared Error: 0.008756128072922286\n",
            "Root Mean Squared Error: 0.09357418486378755\n",
            "R-squared: 0.6907971130955386\n"
          ]
        }
      ]
    },
    {
      "cell_type": "markdown",
      "source": [
        "**Kesimpulan**\n",
        "<br>\n",
        "MAE yang rendah menunjukkan bahwa rata-rata selisih absolut antara nilai aktual dan nilai prediksi oleh model adalah sekitar 0.06, MSE yang rendah menunjukkan bahwa kesalahan prediksi secara keseluruhan rendah, RMSE yang rendah menunjukkan bahwa kesalahan prediksi secara keseluruhan  rendah, dan nilai R-squared yang tinggi menunjukkan bahwa model berhasil menjelaskan sebagian besar variasi dalam data, yaitu sekitar 69.08%. Oleh karena itu, hasil evaluasi menunjukkan bahwa model Regresi Random Forest cukup baik dalam memprediksi nilai target pada dataset pengujian."
      ],
      "metadata": {
        "id": "KuaO1kDmXq7c"
      }
    },
    {
      "cell_type": "markdown",
      "source": [
        "# Prediksi Cuaca"
      ],
      "metadata": {
        "id": "G2XrFIx7c7wp"
      }
    },
    {
      "cell_type": "markdown",
      "source": [
        "* Memasukkan data baru\n",
        "* Prediksi cuaca"
      ],
      "metadata": {
        "id": "HzNbbT9yc-Tw"
      }
    },
    {
      "cell_type": "code",
      "source": [
        "import pickle\n",
        "\n",
        "with open('trained_model.pkl', 'wb') as file:\n",
        "    pickle.dump(model, file)\n",
        "\n",
        "with open('trained_model.pkl', 'rb') as file:\n",
        "    model = pickle.load(file)\n",
        "\n",
        "print(\"Masukkan data untuk prediksi cuaca:\")\n",
        "temperature = float(input(\"Rata-rata Temperature 2m: \"))\n",
        "wind_speed = float(input(\"Kecepatan Angin 10m: \"))\n",
        "humidity = float(input(\"Kelembaban Relatif: \"))\n",
        "rainfall = float(input(\"Curah Hujan: \"))\n",
        "radiation = float(input(\"Radiasi Sinar Matahari: \"))\n",
        "\n",
        "input_data = {\n",
        "    'Tn': temperature,\n",
        "    'ff_avg': wind_speed,\n",
        "    'RH_avg': humidity,\n",
        "    'RR': rainfall,\n",
        "    'ss': radiation,\n",
        "    'ddd_car_E': 0,\n",
        "    'ddd_car_N': 0,\n",
        "    'ddd_car_NE': 0,\n",
        "    'ddd_car_NW': 0,\n",
        "    'ddd_car_S': 0,\n",
        "    'ddd_car_SE': 0,\n",
        "    'ddd_car_SW': 0,\n",
        "    'ddd_car_W': 0\n",
        "}\n",
        "\n",
        "input_df = pd.DataFrame([input_data])\n",
        "\n",
        "input_df = input_df.rename(columns=lambda x: x.strip())\n",
        "\n",
        "missing_columns = set(X.columns) - set(input_df.columns)\n",
        "if missing_columns:\n",
        "    for column in missing_columns:\n",
        "        input_df[column] = 0\n",
        "\n",
        "input_df = input_df[X.columns]\n",
        "\n",
        "prediction = model.predict(input_df)\n",
        "print(\"Prediksi Cuaca:\", prediction)"
      ],
      "metadata": {
        "colab": {
          "base_uri": "https://localhost:8080/"
        },
        "id": "HbXRPlN82r5x",
        "outputId": "e9135a29-edfe-41db-ada9-efd0790a93a6"
      },
      "execution_count": null,
      "outputs": [
        {
          "output_type": "stream",
          "name": "stdout",
          "text": [
            "Masukkan data untuk prediksi cuaca:\n",
            "Rata-rata Temperature 2m: 0\n",
            "Kecepatan Angin 10m: 0\n",
            "Kelembaban Relatif: 0\n",
            "Curah Hujan: 0\n",
            "Radiasi Sinar Matahari: 0\n",
            "Prediksi Cuaca: [0.44369048]\n"
          ]
        }
      ]
    },
    {
      "cell_type": "markdown",
      "source": [
        "**Kesimpulan**\n",
        "<br> Dari hasil prediksi yang diberikan, dengan rata-rata suhu harian yang diperkirakan sekitar 36.52 derajat Celsius, kita dapat menyimpulkan bahwa kondisi cuaca kemungkinan akan terasa hangat atau bahkan panas."
      ],
      "metadata": {
        "id": "dQINtRZ8YFeN"
      }
    }
  ]
}